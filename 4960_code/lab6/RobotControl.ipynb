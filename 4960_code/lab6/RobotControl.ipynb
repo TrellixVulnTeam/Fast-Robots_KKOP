{
 "cells": [
  {
   "cell_type": "markdown",
   "metadata": {},
   "source": [
    "### This notebook contains skeleton code, and discusses some ideas on how to approach the problem of designing a robot control architecuture using BLE.\n",
    "\n",
    "# A Robot Control Class\n",
    "Classes provide a means of bundling data and functionality together. It helps organize your thoughts and your code. \n",
    "\n",
    "Below is the skeleton of one possible class structure to deal with robot communication. You do not have to use the exact same structure, it merely serves as a reference."
   ]
  },
  {
   "cell_type": "code",
   "execution_count": null,
   "metadata": {},
   "outputs": [],
   "source": [
    "class RobotControl():\n",
    "    # Initialize Function\n",
    "    def __init__(self, ble):\n",
    "        self.ble = ble\n",
    "        \n",
    "        # A variable to store the latest sensor value\n",
    "        self.latest_tof_front_reading = None\n",
    "        \n",
    "        # A list to store the history of all the sensor values\n",
    "        # Each item in the list is a tuple (value, time)\n",
    "        # WARNING: The list could grow really fast; you need to deal with this accordingly.\n",
    "        self.tof_readings = []\n",
    "        \n",
    "        # A variable to store the latest imu reading\n",
    "        self.latest_imu_reading = None\n",
    "        \n",
    "        # Activate notifications (if required)\n",
    "        self.setup_notify()\n",
    "    \n",
    "    # A function to activate various notifications (if required)\n",
    "    def setup_notify(self):\n",
    "        # Code to setup various notify events\n",
    "        # Ex:\n",
    "        # ble.start_notify(ble.uuid['RX_TOF2'], self.tof_callback_handler)\n",
    "        # ble.start_notify(ble.uuid['RX_FANCY_SENSOR'], self.fancy_sensor_callback_handler)\n",
    "    \n",
    "    # An example function callback handler for storing the history of the tof sensor\n",
    "    # Your callback handlers should perform minimal processing!\n",
    "    # Do not add a receive_* function inside the callback handler, it defeats the purpose of BLE notify\n",
    "    def tof_callback_handler(self, uuid, byte_array):\n",
    "        # Append a tuple (value, time) to a list\n",
    "        self.tof_readings.append( ( self.ble.bytearray_to_float(byte_array), time.time() ) )\n",
    "    \n",
    "    # An example function to fetch the front TOF sensor reading\n",
    "    # Here we assume RX_TOF1 is a valid UUID defined in connection.yaml and\n",
    "    # in the Arduino code as well\n",
    "    def get_front_tof(self):\n",
    "        self.latest_tof_front_reading = self.ble.receive_float(self.ble.uuid['RX_TOF1'])\n",
    "        pass\n",
    "    \n",
    "    # An example function to fetch the IMU readings as a string\n",
    "    # Here we assume RX_IMU is a valid UUID defined in connection.yaml and\n",
    "    # in the Arduino code as well\n",
    "    def get_imu(self):\n",
    "        self.latest_imu_reading = self.ble.receive_string(self.ble.uuid['RX_IMU'])\n",
    "        pass\n",
    "    \n",
    "    # A function to instruct the robot to stop 300mm from wall\n",
    "    def wall_pid(self):\n",
    "        ble.send_command(CMD.WALL_PID)\n",
    "    \n",
    "    \n",
    "    # A function to instruct the robot to move forward\n",
    "    def move_forward(self, speed):\n",
    "        # Code to move forward\n",
    "        ble.send_command(CMD.MOVE_FORWARD, speed)\n",
    "    \n",
    "    # A function to stop robot motion\n",
    "    def stop(self):\n",
    "        # Code to stop robot motion\n",
    "        ble.send_command(CMD.STOP)\n"
   ]
  },
  {
   "cell_type": "markdown",
   "metadata": {},
   "source": [
    "### You can now use such a class to control your robot"
   ]
  },
  {
   "cell_type": "code",
   "execution_count": null,
   "metadata": {},
   "outputs": [],
   "source": [
    "# Get ArtemisBLEController object\n",
    "ble = get_ble_controller()\n",
    "\n",
    "# Connect to the Artemis Device\n",
    "ble.connect()\n",
    "\n",
    "# Instantiate RobotControl class\n",
    "rc = RobotControl(ble)\n",
    "\n",
    "### Move robot forward for 3 secs and get sensor readings ###\n",
    "rc.get_imu()\n",
    "\n",
    "rc.move_forward(50)\n",
    "log.info(\"IMU Reading: \" + str(rc.latest_imu_reading))\n",
    "await time.sleep(3)\n",
    "rc.stop()\n",
    "\n",
    "rc.get_imu()\n",
    "log.info(\"IMU Reading: \" + str(rc.latest_imu_reading))"
   ]
  },
  {
   "cell_type": "markdown",
   "metadata": {},
   "source": [
    "## Setup:"
   ]
  },
  {
   "cell_type": "code",
   "execution_count": 10,
   "metadata": {},
   "outputs": [
    {
     "name": "stdout",
     "output_type": "stream",
     "text": [
      "The autoreload extension is already loaded. To reload it, use:\n",
      "  %reload_ext autoreload\n"
     ]
    },
    {
     "ename": "ModuleNotFoundError",
     "evalue": "No module named 'bleak'",
     "output_type": "error",
     "traceback": [
      "\u001b[1;31m---------------------------------------------------------------------------\u001b[0m",
      "\u001b[1;31mModuleNotFoundError\u001b[0m                       Traceback (most recent call last)",
      "\u001b[1;32m<ipython-input-10-cd896bff6fd9>\u001b[0m in \u001b[0;36m<module>\u001b[1;34m()\u001b[0m\n\u001b[0;32m      2\u001b[0m \u001b[0mget_ipython\u001b[0m\u001b[1;33m(\u001b[0m\u001b[1;33m)\u001b[0m\u001b[1;33m.\u001b[0m\u001b[0mrun_line_magic\u001b[0m\u001b[1;33m(\u001b[0m\u001b[1;34m'autoreload'\u001b[0m\u001b[1;33m,\u001b[0m \u001b[1;34m'2'\u001b[0m\u001b[1;33m)\u001b[0m\u001b[1;33m\u001b[0m\u001b[0m\n\u001b[0;32m      3\u001b[0m \u001b[1;33m\u001b[0m\u001b[0m\n\u001b[1;32m----> 4\u001b[1;33m \u001b[1;32mfrom\u001b[0m \u001b[0mble\u001b[0m \u001b[1;32mimport\u001b[0m \u001b[0mget_ble_controller\u001b[0m\u001b[1;33m\u001b[0m\u001b[0m\n\u001b[0m\u001b[0;32m      5\u001b[0m \u001b[1;32mfrom\u001b[0m \u001b[0mbase_ble\u001b[0m \u001b[1;32mimport\u001b[0m \u001b[0mLOG\u001b[0m\u001b[1;33m\u001b[0m\u001b[0m\n\u001b[0;32m      6\u001b[0m \u001b[1;32mfrom\u001b[0m \u001b[0mcmd_types\u001b[0m \u001b[1;32mimport\u001b[0m \u001b[0mCMD\u001b[0m\u001b[1;33m\u001b[0m\u001b[0m\n",
      "\u001b[1;32m~\\git\\fastRobots\\4960_code\\lab6\\ble.py\u001b[0m in \u001b[0;36m<module>\u001b[1;34m()\u001b[0m\n\u001b[1;32m----> 1\u001b[1;33m \u001b[1;32mfrom\u001b[0m \u001b[0mbase_ble\u001b[0m \u001b[1;32mimport\u001b[0m \u001b[1;33m*\u001b[0m\u001b[1;33m\u001b[0m\u001b[0m\n\u001b[0m\u001b[0;32m      2\u001b[0m \u001b[1;32mimport\u001b[0m \u001b[0matexit\u001b[0m\u001b[1;33m\u001b[0m\u001b[0m\n\u001b[0;32m      3\u001b[0m \u001b[1;33m\u001b[0m\u001b[0m\n\u001b[0;32m      4\u001b[0m \u001b[0mGLOBAL_BLE_DEVICE\u001b[0m \u001b[1;33m=\u001b[0m \u001b[1;32mNone\u001b[0m\u001b[1;33m\u001b[0m\u001b[0m\n\u001b[0;32m      5\u001b[0m \u001b[1;33m\u001b[0m\u001b[0m\n",
      "\u001b[1;32m~\\git\\fastRobots\\4960_code\\lab6\\base_ble.py\u001b[0m in \u001b[0;36m<module>\u001b[1;34m()\u001b[0m\n\u001b[0;32m      2\u001b[0m \u001b[1;32mimport\u001b[0m \u001b[0mtime\u001b[0m\u001b[1;33m\u001b[0m\u001b[0m\n\u001b[0;32m      3\u001b[0m \u001b[1;32mimport\u001b[0m \u001b[0mbleach\u001b[0m\u001b[1;33m\u001b[0m\u001b[0m\n\u001b[1;32m----> 4\u001b[1;33m \u001b[1;32mfrom\u001b[0m \u001b[0mbleak\u001b[0m \u001b[1;32mimport\u001b[0m \u001b[0mBleakClient\u001b[0m\u001b[1;33m,\u001b[0m \u001b[0mBleakScanner\u001b[0m\u001b[1;33m,\u001b[0m \u001b[0mBleakError\u001b[0m\u001b[1;33m\u001b[0m\u001b[0m\n\u001b[0m\u001b[0;32m      5\u001b[0m \u001b[1;32mimport\u001b[0m \u001b[0mnest_asyncio\u001b[0m\u001b[1;33m\u001b[0m\u001b[0m\n\u001b[0;32m      6\u001b[0m \u001b[1;32mimport\u001b[0m \u001b[0mstruct\u001b[0m\u001b[1;33m\u001b[0m\u001b[0m\n",
      "\u001b[1;31mModuleNotFoundError\u001b[0m: No module named 'bleak'"
     ]
    }
   ],
   "source": [
    "%load_ext autoreload\n",
    "%autoreload 2\n",
    "\n",
    "from ble import get_ble_controller\n",
    "from base_ble import LOG\n",
    "from cmd_types import CMD\n",
    "import time\n",
    "import numpy as np\n",
    "import asyncio\n",
    "\n",
    "\n",
    "LOG.propagate = False\n",
    "\n",
    "ARR_SIZE = 200\n",
    "feature_names_list = [\"TOF Readings\", \"Time Stamps\", \"Motor Percentages\"]\n",
    "data_list = [ [] for _ in range(len(feature_names_list))]\n",
    "\n",
    "feature_ind = 0\n",
    "\n",
    "def data_receiver(uuid, byte_arr):\n",
    "    fl = ble.bytearray_to_float(byte_arr)\n",
    "    if len(data_list[feature_ind]) < ARR_SIZE:\n",
    "        data_list[feature_ind].append(fl)\n",
    "    elif feature_ind < len(feature_names_list)-1:\n",
    "        feature_ind = feature_ind + 1\n",
    "        data_list[feature_ind].append(fl)\n",
    "    else: raise(\"More data than expected.\")\n",
    "        \n",
    "\n",
    "    "
   ]
  },
  {
   "cell_type": "markdown",
   "metadata": {},
   "source": [
    "# PID execution:"
   ]
  },
  {
   "cell_type": "code",
   "execution_count": 9,
   "metadata": {},
   "outputs": [
    {
     "ename": "NameError",
     "evalue": "name 'get_ble_controller' is not defined",
     "output_type": "error",
     "traceback": [
      "\u001b[1;31m---------------------------------------------------------------------------\u001b[0m",
      "\u001b[1;31mNameError\u001b[0m                                 Traceback (most recent call last)",
      "\u001b[1;32m<ipython-input-9-043a383a98f8>\u001b[0m in \u001b[0;36m<module>\u001b[1;34m()\u001b[0m\n\u001b[0;32m      1\u001b[0m \u001b[1;33m\u001b[0m\u001b[0m\n\u001b[0;32m      2\u001b[0m \u001b[1;31m# Get ArtemisBLEController object\u001b[0m\u001b[1;33m\u001b[0m\u001b[1;33m\u001b[0m\u001b[0m\n\u001b[1;32m----> 3\u001b[1;33m \u001b[0mble\u001b[0m \u001b[1;33m=\u001b[0m \u001b[0mget_ble_controller\u001b[0m\u001b[1;33m(\u001b[0m\u001b[1;33m)\u001b[0m\u001b[1;33m\u001b[0m\u001b[0m\n\u001b[0m\u001b[0;32m      4\u001b[0m \u001b[1;33m\u001b[0m\u001b[0m\n\u001b[0;32m      5\u001b[0m \u001b[1;31m# Connect to the Artemis Device\u001b[0m\u001b[1;33m\u001b[0m\u001b[1;33m\u001b[0m\u001b[0m\n",
      "\u001b[1;31mNameError\u001b[0m: name 'get_ble_controller' is not defined"
     ]
    }
   ],
   "source": [
    "\n",
    "# Get ArtemisBLEController object\n",
    "ble = get_ble_controller()\n",
    "\n",
    "# Connect to the Artemis Device\n",
    "ble.connect()\n",
    "\n",
    "# Instantiate RobotControl class\n",
    "rc = RobotControl(ble)\n",
    "\n",
    "rc.wall_pid()\n",
    "time.sleep(5)\n",
    "ble.start_notify(ble.UUID['RX_FLOAT'], data_receiver)\n"
   ]
  },
  {
   "cell_type": "markdown",
   "metadata": {},
   "source": [
    "<hr>\n",
    "\n",
    "### There are two possible approaches to reading values from the Artemis board\n",
    "**Approach 1:** Read values explicitly <br>\n",
    "**Approach 2:** Notifications\n",
    "\n",
    "#### You can use a combination of both i.e read some values explicitly and activate notifications for others."
   ]
  },
  {
   "cell_type": "markdown",
   "metadata": {},
   "source": [
    "## Approach 1: Read values explicitly\n",
    "Below is a possible structure to run your robot commands in a loop and explicitly read the sensor values as required. \n",
    "\n",
    "You have more control of your code in this approach. However, the read functions could perform slower in comparison to notify events."
   ]
  },
  {
   "cell_type": "code",
   "execution_count": null,
   "metadata": {},
   "outputs": [],
   "source": [
    "# Add this to the top most cell containing the imports\n",
    "import asyncio\n",
    "\n",
    "\n",
    "while True:\n",
    "    ###### Your code ######\n",
    "    # Ex: Move the robot for 1 sec\n",
    "    # rc.move_forward(50)\n",
    "    # await asyncio.sleep(1)\n",
    "    # rc.stop()\n",
    "    \n",
    "    ###### Read values ######\n",
    "    # rc.get_imu()\n",
    "    # rc.get_front_tof()"
   ]
  },
  {
   "cell_type": "markdown",
   "metadata": {},
   "source": [
    "## Approach 2: Notifications\n",
    "Below is a possible structure to run your robot command in a loop and utilize the notify events. \n",
    "\n",
    "You may have to tweak the sleep time based on how you program your arduino, system OS, system specs, system load and, the number and frequency of notify events. \n",
    "\n",
    "However, you **don't have to worry too much** about this if you keep your notify callback functions light. It becomes an issue only when you have a large number of notify events within a (very) short duration of time."
   ]
  },
  {
   "cell_type": "code",
   "execution_count": null,
   "metadata": {},
   "outputs": [],
   "source": [
    "while True:\n",
    "    ###### Your code ######\n",
    "    # Ex: Move the robot for 1 sec\n",
    "    # rc.move_forward(50)\n",
    "    # await asyncio.sleep(1)\n",
    "    # rc.stop()\n",
    "    \n",
    "    # Process notify events\n",
    "    # Sleep the current execution so that the notify callback functions can run\n",
    "    # The sleep time can be much smaller, but it depends on the OS, hardware specs, number of notify events and the system load\n",
    "    await asyncio.sleep(0.1)"
   ]
  }
 ],
 "metadata": {
  "kernelspec": {
   "display_name": "Python 3",
   "language": "python",
   "name": "python3"
  },
  "language_info": {
   "codemirror_mode": {
    "name": "ipython",
    "version": 3
   },
   "file_extension": ".py",
   "mimetype": "text/x-python",
   "name": "python",
   "nbconvert_exporter": "python",
   "pygments_lexer": "ipython3",
   "version": "3.6.5"
  }
 },
 "nbformat": 4,
 "nbformat_minor": 4
}
